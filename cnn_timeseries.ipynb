{
 "cells": [
  {
   "cell_type": "code",
   "execution_count": 1,
   "metadata": {},
   "outputs": [],
   "source": [
    "import sys\n",
    "import numpy as np\n",
    "import pandas as pd\n",
    "from numba import jit\n",
    "\n",
    "import torch\n",
    "import torch.nn as nn\n",
    "import torch.nn.functional as F\n",
    "from torch.utils.data import Dataset, DataLoader\n",
    "\n",
    "torch.cuda.empty_cache()"
   ]
  },
  {
   "cell_type": "code",
   "execution_count": 2,
   "metadata": {},
   "outputs": [],
   "source": [
    "data_med = pd.read_feather('./data_clean.feat')\n",
    "y_true = pd.read_feather('./true_values.feat')\n",
    "pages = pd.read_csv('./pages.csv',header=None)[0]\n",
    "data_test = pd.read_feather('./data_test.feat')\n",
    "test_pages = pd.read_csv('./test_pages.csv',header=None)[0]"
   ]
  },
  {
   "cell_type": "markdown",
   "metadata": {},
   "source": [
    "## Building Training Data"
   ]
  },
  {
   "cell_type": "code",
   "execution_count": null,
   "metadata": {},
   "outputs": [],
   "source": [
    "data = pd.read_csv('./train_2.csv', encoding='utf-8')\n",
    "y_true = pd.read_csv('./solution_11_15.csv', encoding='utf-8')\n",
    "sample_solution = pd.read_csv('./sample_submission_2.csv', encoding='utf-8')\n",
    "keys = pd.read_csv('./key_2.csv', encoding='utf-8')\n",
    "\n",
    "keys = dict(zip(keys.Id.values, keys.Page.values))"
   ]
  },
  {
   "cell_type": "code",
   "execution_count": null,
   "metadata": {},
   "outputs": [],
   "source": [
    "# load and clean y_true\n",
    "y_true = pd.read_csv('./solution_11_15.csv', encoding='utf-8')\n",
    "y_true.Id = y_true.Id.apply(lambda x : keys[x])\n",
    "y_true['Date'] = y_true.Id.apply(lambda x : x[-10:])\n",
    "y_true.Id = y_true.Id.apply(lambda x : x[:-11])\n",
    "y_true = y_true.pivot('Id','Date','Visits')\n",
    "y_true['Id']=y_true.index\n",
    "y_true.reset_index(drop=True,inplace=True)"
   ]
  },
  {
   "cell_type": "code",
   "execution_count": null,
   "metadata": {},
   "outputs": [],
   "source": [
    "data_med =  data.iloc[:,1:].apply(lambda x : x.fillna(x.dropna().median()), axis=1)\n",
    "pages = data.Page\n",
    "data_med = data_med.astype(np.float32)\n",
    "\n",
    "del data"
   ]
  },
  {
   "cell_type": "code",
   "execution_count": null,
   "metadata": {},
   "outputs": [],
   "source": [
    "y_true.iloc[:,:62] = y_true.iloc[:,:62].astype(np.float32)\n",
    "data_med['Id'] = pages\n",
    "data_test = data_med.merge(y_true, 'left', on='Id')\n",
    "test_pages = data_test.Id\n",
    "data_test.drop('Id',axis=1,inplace=True)\n",
    "data_test = data_test.iloc[:,62:]"
   ]
  },
  {
   "cell_type": "code",
   "execution_count": null,
   "metadata": {},
   "outputs": [],
   "source": [
    "data_med.to_feather('./data_clean.feat')\n",
    "y_true.to_feather('./true_values.feat')\n",
    "pages.to_csv('./pages.csv',index=False)\n",
    "data_test.to_feather('./data_test.feat')\n",
    "test_pages.to_csv('./test_pages.csv')"
   ]
  },
  {
   "cell_type": "markdown",
   "metadata": {},
   "source": [
    "## Building Models\n",
    "\n",
    "For an initial approach, I fit two CNN models with slightly different architecture.  These models generated the entire range of the prediction (62 values) at once."
   ]
  },
  {
   "cell_type": "code",
   "execution_count": 3,
   "metadata": {},
   "outputs": [],
   "source": [
    "@jit(nopython=True)\n",
    "def smape_batch(y_true, y_pred):\n",
    "    return 100 * np.mean( np.abs(y_true - y_pred) / ( (np.abs(y_true) + np.abs(y_pred)) / 2 ) )"
   ]
  },
  {
   "cell_type": "code",
   "execution_count": 4,
   "metadata": {},
   "outputs": [],
   "source": [
    "class TimeSeriesData(Dataset):\n",
    "    def __init__(self,data,page,pred_len=62):\n",
    "        self.data = data\n",
    "        self.page = page\n",
    "        self.length = data.shape[0]\n",
    "        self.pred_len = pred_len\n",
    "        \n",
    "    def __len__(self):\n",
    "        return self.length\n",
    "    \n",
    "    def __getitem__(self, index):\n",
    "        out = np.array(self.data.loc[index])\n",
    "        return out[:-self.pred_len], out[-self.pred_len:],self.page.loc[index]"
   ]
  },
  {
   "cell_type": "code",
   "execution_count": 5,
   "metadata": {},
   "outputs": [],
   "source": [
    "class TimeSeriesCNN(nn.Module):\n",
    "    def __init__(self,pred_len):\n",
    "        super(TimeSeriesCNN, self).__init__()\n",
    "        self.conv_year = nn.Conv1d(1, out_channels=100, kernel_size=365)\n",
    "        self.conv_year2 = nn.Conv1d(100, 10, 1)\n",
    "        self.conv_mon = nn.Conv1d(1, out_channels=20, kernel_size=31)\n",
    "        self.conv_day = nn.Conv1d(1, out_channels=2, kernel_size=7)\n",
    "        self.fc = nn.Linear(1220, pred_len)\n",
    "        \n",
    "    def forward(self, x):\n",
    "        x = x.unsqueeze(1)\n",
    "        y = F.relu(self.conv_year(x))\n",
    "        y2 = F.relu(self.conv_mon(x))\n",
    "        y3 = F.relu(self.conv_day(x))\n",
    "        y = nn.AdaptiveAvgPool1d(10)(y)\n",
    "        y2 = nn.AdaptiveAvgPool1d(10)(y2)\n",
    "        y3 = nn.AdaptiveAvgPool1d(10)(y3)\n",
    "        y = y.view(y.size(0),-1)\n",
    "        y2 = y2.view(y2.size(0),-1)\n",
    "        y3 = y3.view(y3.size(0),-1)\n",
    "        #y = self.bn(y)\n",
    "        #y2 = self.bn2(y2)\n",
    "        #y3 = self.bn3(y3)\n",
    "        out = torch.cat([y,y2,y3], dim=1)\n",
    "        out = F.dropout(out, .2)\n",
    "        out = self.fc(out)\n",
    "        \n",
    "        return out"
   ]
  },
  {
   "cell_type": "code",
   "execution_count": 6,
   "metadata": {},
   "outputs": [],
   "source": [
    "class TimeSeriesCNN_v2(nn.Module):\n",
    "    def __init__(self,pred_len):\n",
    "        super(TimeSeriesCNN_v2, self).__init__()\n",
    "        self.pred_len = pred_len\n",
    "        self.conv_1 = nn.Conv1d(1, out_channels=8, kernel_size=7)\n",
    "        self.conv_2 = nn.Conv1d(8, out_channels=16, kernel_size=5)\n",
    "        self.conv_3 = nn.Conv1d(16, out_channels=32, kernel_size=12)\n",
    "        self.conv_4 = nn.Conv1d(32, out_channels=64, kernel_size=10)\n",
    "        self.conv_5 = nn.Conv1d(64, out_channels=1, kernel_size=1)\n",
    "        self.fc = nn.Linear(831,pred_len)\n",
    "        \n",
    "    def forward(self, x):\n",
    "        x = x.unsqueeze(1)\n",
    "        y = F.relu(self.conv_1(x))\n",
    "        max1 = nn.MaxPool1d(y.shape[2])(y)\n",
    "        y = F.relu(self.conv_2(y))\n",
    "        max2 = nn.MaxPool1d(y.shape[2])(y)\n",
    "        y = F.relu(self.conv_3(y))\n",
    "        max3 = nn.MaxPool1d(y.shape[2])(y)\n",
    "        y = F.relu(self.conv_4(y))\n",
    "        max4 = nn.MaxPool1d(kernel_size = y.shape[2])(y)\n",
    "        y = self.conv_5(y)\n",
    "        y = y.view(y.size(0),-1)\n",
    "        max1 = max1.view(max1.size(0),-1)\n",
    "        max2 = max2.view(max2.size(0),-1)\n",
    "        max3 = max3.view(max3.size(0),-1)\n",
    "        max4 = max4.view(max4.size(0),-1)\n",
    "        y = F.dropout(y, .1)\n",
    "        y = torch.cat([max1,max2,max3,max4,y],dim=1)\n",
    "        y = self.fc(y)\n",
    "        \n",
    "        return y"
   ]
  },
  {
   "cell_type": "code",
   "execution_count": 7,
   "metadata": {},
   "outputs": [],
   "source": [
    "def train_epochs(model, epochs=10, lr=0.01):\n",
    "    model.train()\n",
    "    output = list('....................')\n",
    "    best_smape = 200\n",
    "    best_epoch = 0\n",
    "    for i in range(epochs):\n",
    "        parameters = filter(lambda p: p.requires_grad, model.parameters())\n",
    "        optimizer = torch.optim.Adam(parameters, lr=lr)\n",
    "        y_pred = np.array([])\n",
    "        y_true = np.array([])\n",
    "        for x,y,name in train_loader:\n",
    "            size = y.shape[0]\n",
    "            x = torch.Tensor(x).cuda()\n",
    "            y = torch.Tensor(y).cuda()\n",
    "            y_hat = model(x)\n",
    "            loss = F.l1_loss(y_hat, y)\n",
    "            optimizer.zero_grad()\n",
    "            loss.backward()\n",
    "            optimizer.step()\n",
    "            # calculating total loss\n",
    "            y_pred = np.append(y_pred,y_hat.cpu().detach().numpy())\n",
    "            y_true = np.append(y_true,y.cpu().detach().numpy())\n",
    "        \n",
    "        # building output\n",
    "        curr_smape = smape_batch(y_pred, y_true)\n",
    "        if curr_smape < best_smape:\n",
    "            best_smape = curr_smape\n",
    "            best_epoch = i\n",
    "        output[int(i//(epochs / 20))] = 'x'\n",
    "        sys.stdout.write('\\r' + 'Epoch %s: ' % i +\\\n",
    "                         ''.join(output) +\\\n",
    "                         ' SMAPE: %.2f' % (smape_batch(y_pred,y_true)) +\\\n",
    "                         ' Best: %.2f on epoch %s' % (best_smape, best_epoch)\n",
    "                        )\n",
    "        sys.stdout.flush()"
   ]
  },
  {
   "cell_type": "code",
   "execution_count": 8,
   "metadata": {},
   "outputs": [],
   "source": [
    "def predict(model, test_loader):\n",
    "    model.eval()\n",
    "    y_pred = np.array([])\n",
    "    y_true = np.array([])\n",
    "    for x,y,name in test_loader:\n",
    "        x = torch.Tensor(x).cuda()\n",
    "        y = torch.Tensor(y).cuda()\n",
    "        y_hat = model(x)\n",
    "        # calculating total loss\n",
    "        y_pred = np.append(y_pred,y_hat.cpu().detach().numpy())\n",
    "        y_true = np.append(y_true,y.cpu().detach().numpy())\n",
    "    \n",
    "    print('Test SMAPE: %s' % smape_batch(y_true,y_pred))"
   ]
  },
  {
   "cell_type": "markdown",
   "metadata": {},
   "source": [
    "## Training\n",
    "\n",
    "This first block tests the performance of guessing the median for the validation range, which turns out to be around 46%."
   ]
  },
  {
   "cell_type": "code",
   "execution_count": 9,
   "metadata": {},
   "outputs": [
    {
     "name": "stderr",
     "output_type": "stream",
     "text": [
      "/home/imarobit/anaconda2/envs/fastai/lib/python3.6/site-packages/ipykernel_launcher.py:6: RuntimeWarning: invalid value encountered in true_divide\n",
      "  \n"
     ]
    },
    {
     "data": {
      "text/plain": [
       "0.4678351"
      ]
     },
     "execution_count": 9,
     "metadata": {},
     "output_type": "execute_result"
    }
   ],
   "source": [
    "raw_data = data_med.drop('Id',axis=1).values\n",
    "median_vals = np.median(raw_data[:,:-62],axis=1)\n",
    "med_pred = np.tile(median_vals, (62,1)).transpose()\n",
    "test = raw_data[:,-62:]\n",
    "\n",
    "out = np.abs(test-med_pred) / ((np.abs(test) + np.abs(med_pred)) / 2)\n",
    "out[np.isnan(out)] = 0\n",
    "np.mean(out)"
   ]
  },
  {
   "cell_type": "markdown",
   "metadata": {},
   "source": [
    "These models do not out perform the median."
   ]
  },
  {
   "cell_type": "code",
   "execution_count": 10,
   "metadata": {
    "scrolled": true
   },
   "outputs": [
    {
     "name": "stdout",
     "output_type": "stream",
     "text": [
      "Epoch 999: xxxxxxxxxxxxxxxxxxxx SMAPE: 46.40 Best: 45.49 on epoch 974"
     ]
    }
   ],
   "source": [
    "train_loader = DataLoader(TimeSeriesData(data_med.drop('Id',axis=1),pages,62),batch_size=2048,shuffle=True,num_workers=4)\n",
    "model = TimeSeriesCNN(62)\n",
    "model.cuda()\n",
    "train_epochs(model, 1000, 1e-4)\n"
   ]
  },
  {
   "cell_type": "code",
   "execution_count": 11,
   "metadata": {},
   "outputs": [
    {
     "name": "stderr",
     "output_type": "stream",
     "text": [
      "/home/imarobit/anaconda2/envs/fastai/lib/python3.6/site-packages/torch/serialization.py:193: UserWarning: Couldn't retrieve source code for container of type TimeSeriesCNN. It won't be checked for correctness upon loading.\n",
      "  \"type \" + obj.__name__ + \". It won't be checked \"\n"
     ]
    }
   ],
   "source": [
    "torch.save(model,'./v1.model')\n",
    "del model; torch.cuda.empty_cache()"
   ]
  },
  {
   "cell_type": "code",
   "execution_count": 12,
   "metadata": {},
   "outputs": [
    {
     "name": "stdout",
     "output_type": "stream",
     "text": [
      "Epoch 999: xxxxxxxxxxxxxxxxxxxx SMAPE: 43.74 Best: 42.43 on epoch 732"
     ]
    }
   ],
   "source": [
    "train_loader = DataLoader(TimeSeriesData(data_med.drop('Id',axis=1),pages,62),batch_size=2048,shuffle=True,num_workers=3)\n",
    "model_v2 = TimeSeriesCNN_v2(62)\n",
    "model_v2.cuda()\n",
    "train_epochs(model_v2, 1000, 1e-4)\n"
   ]
  },
  {
   "cell_type": "code",
   "execution_count": 13,
   "metadata": {},
   "outputs": [
    {
     "name": "stderr",
     "output_type": "stream",
     "text": [
      "/home/imarobit/anaconda2/envs/fastai/lib/python3.6/site-packages/torch/serialization.py:193: UserWarning: Couldn't retrieve source code for container of type TimeSeriesCNN_v2. It won't be checked for correctness upon loading.\n",
      "  \"type \" + obj.__name__ + \". It won't be checked \"\n"
     ]
    }
   ],
   "source": [
    "torch.save(model_v2,'./v2.model')\n",
    "del model_v2; torch.cuda.empty_cache()"
   ]
  },
  {
   "cell_type": "code",
   "execution_count": null,
   "metadata": {},
   "outputs": [],
   "source": [
    "y_true.iloc[:,:62] = y_true.iloc[:,:62].astype(np.float32)\n",
    "data_med['Id'] = pages\n",
    "data_test = data_med.merge(y_true, 'left', on='Id')\n",
    "test_pages = data_test.Id\n",
    "data_test.drop('Id',axis=1,inplace=True)\n",
    "data_test = data_test.iloc[:,62:]\n",
    "test_loader = DataLoader(TimeSeriesData(data_test,pages,62),batch_size=2048,num_workers=3)"
   ]
  },
  {
   "cell_type": "markdown",
   "metadata": {},
   "source": [
    "## Models with Attention\n",
    "\n",
    "Per the winning solution on kaggle, these models are-implemented but with some modification.  New features will be created that are callbacks to data at previous time intervals $x_{t-90}$ and $x_{t-365}$.  This model scores around 40%."
   ]
  },
  {
   "cell_type": "code",
   "execution_count": null,
   "metadata": {},
   "outputs": [],
   "source": [
    "model_attn = torch.load('./model_attn.model')"
   ]
  },
  {
   "cell_type": "code",
   "execution_count": null,
   "metadata": {},
   "outputs": [],
   "source": [
    "class TimeSeriesCNN_v2(nn.Module):\n",
    "    def __init__(self,pred_len):\n",
    "        super(TimeSeriesCNN_v2, self).__init__()\n",
    "        self.pred_len = pred_len\n",
    "        self.conv_1 = nn.Conv1d(1, out_channels=8, kernel_size=7)\n",
    "        self.conv_2 = nn.Conv1d(8, out_channels=16, kernel_size=5)\n",
    "        self.conv_3 = nn.Conv1d(16, out_channels=32, kernel_size=12)\n",
    "        self.conv_4 = nn.Conv1d(32, out_channels=64, kernel_size=10)\n",
    "        self.conv_5 = nn.Conv1d(64, out_channels=1, kernel_size=1)\n",
    "        self.fc = nn.Linear(831,pred_len)\n",
    "        \n",
    "    def forward(self, x):\n",
    "        x = x.unsqueeze(1)\n",
    "        y = F.relu(self.conv_1(x))\n",
    "        max1 = nn.MaxPool1d(y.shape[2])(y)\n",
    "        y = F.relu(self.conv_2(y))\n",
    "        max2 = nn.MaxPool1d(y.shape[2])(y)\n",
    "        y = F.relu(self.conv_3(y))\n",
    "        max3 = nn.MaxPool1d(y.shape[2])(y)\n",
    "        y = F.relu(self.conv_4(y))\n",
    "        max4 = nn.MaxPool1d(kernel_size = y.shape[2])(y)\n",
    "        y = self.conv_5(y)\n",
    "        y = y.view(y.size(0),-1)\n",
    "        max1 = max1.view(max1.size(0),-1)\n",
    "        max2 = max2.view(max2.size(0),-1)\n",
    "        max3 = max3.view(max3.size(0),-1)\n",
    "        max4 = max4.view(max4.size(0),-1)\n",
    "        y = F.dropout(y, .1)\n",
    "        y = torch.cat([max1,max2,max3,max4,y],dim=1)\n",
    "        y = self.fc(y)\n",
    "        \n",
    "        return y"
   ]
  },
  {
   "cell_type": "code",
   "execution_count": 26,
   "metadata": {},
   "outputs": [],
   "source": [
    "class TimeSeriesCNNAttn(nn.Module):\n",
    "    def __init__(self,pred_len):\n",
    "        super(TimeSeriesCNNAttn, self).__init__()\n",
    "        self.pred_len = pred_len\n",
    "        self.conv_1 = nn.Conv1d(1, out_channels=8, kernel_size=7)\n",
    "        self.conv_2 = nn.Conv1d(8, out_channels=16, kernel_size=5)\n",
    "        self.conv_3 = nn.Conv1d(16, out_channels=32, kernel_size=12)\n",
    "        self.conv_4 = nn.Conv1d(32, out_channels=64, kernel_size=10)\n",
    "        self.conv_5 = nn.Conv1d(64, out_channels=1, kernel_size=1)\n",
    "        self.fc = nn.Linear(831,pred_len)\n",
    "        self.fc2 = nn.Linear(pred_len, pred_len)\n",
    "        self.fc3 = nn.Linear(pred_len, pred_len)\n",
    "        self.fc4 = nn.Linear(pred_len * 3, pred_len)\n",
    "\n",
    "    def forward(self, x):\n",
    "        x = x.unsqueeze(1)\n",
    "        y = F.relu(self.conv_1(x))\n",
    "        max1 = nn.MaxPool1d(y.shape[2])(y)\n",
    "        y = F.relu(self.conv_2(y))\n",
    "        max2 = nn.MaxPool1d(y.shape[2])(y)\n",
    "        y = F.relu(self.conv_3(y))\n",
    "        max3 = nn.MaxPool1d(y.shape[2])(y)\n",
    "        y = F.relu(self.conv_4(y))\n",
    "        max4 = nn.MaxPool1d(kernel_size = y.shape[2])(y)\n",
    "        y = F.relu(self.conv_5(y))\n",
    "        y = y.view(y.size(0),-1)\n",
    "        max1 = max1.view(max1.size(0),-1)\n",
    "        max2 = max2.view(max2.size(0),-1)\n",
    "        max3 = max3.view(max3.size(0),-1)\n",
    "        max4 = max4.view(max4.size(0),-1)\n",
    "        y = F.dropout(y, .2)\n",
    "        y = torch.cat([max1,max2,max3,max4,y],dim=1)\n",
    "        y = self.fc(y)\n",
    "        \n",
    "        x = x.view(x.size(0),-1)\n",
    "        out = torch.cat([y,x[:,-90:(-90+62)],x[:,-365:(-365+62)]],dim=1)\n",
    "        #out = F.dropout(out, .2)\n",
    "        out = self.fc4(out)\n",
    "        \n",
    "        return out"
   ]
  },
  {
   "cell_type": "code",
   "execution_count": 27,
   "metadata": {},
   "outputs": [],
   "source": [
    "model_attn = TimeSeriesCNNAttn(62)"
   ]
  },
  {
   "cell_type": "code",
   "execution_count": null,
   "metadata": {},
   "outputs": [
    {
     "name": "stdout",
     "output_type": "stream",
     "text": [
      "Epoch 1480: xxxxxxxxxxxxxxxxxxxx SMAPE: 39.53 Best: 39.26 on epoch 1474"
     ]
    }
   ],
   "source": [
    "train_loader = DataLoader(TimeSeriesData(data_med.drop('Id',axis=1),pages,62),batch_size=1024,shuffle=True,num_workers=3)\n",
    "model_attn.cuda()\n",
    "train_epochs(model_attn, 1500, 1e-4)"
   ]
  },
  {
   "cell_type": "code",
   "execution_count": null,
   "metadata": {},
   "outputs": [],
   "source": [
    "torch.save(model_attn, './model_attn.model')"
   ]
  },
  {
   "cell_type": "code",
   "execution_count": null,
   "metadata": {},
   "outputs": [],
   "source": [
    "data_test"
   ]
  },
  {
   "cell_type": "code",
   "execution_count": null,
   "metadata": {
    "scrolled": true
   },
   "outputs": [],
   "source": [
    "data_med"
   ]
  },
  {
   "cell_type": "code",
   "execution_count": null,
   "metadata": {},
   "outputs": [],
   "source": []
  }
 ],
 "metadata": {
  "kernelspec": {
   "display_name": "Python 3",
   "language": "python",
   "name": "python3"
  },
  "language_info": {
   "codemirror_mode": {
    "name": "ipython",
    "version": 3
   },
   "file_extension": ".py",
   "mimetype": "text/x-python",
   "name": "python",
   "nbconvert_exporter": "python",
   "pygments_lexer": "ipython3",
   "version": "3.6.5"
  }
 },
 "nbformat": 4,
 "nbformat_minor": 2
}
